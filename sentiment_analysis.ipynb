{
  "nbformat": 4,
  "nbformat_minor": 0,
  "metadata": {
    "colab": {
      "name": "sentiment_analysis.ipynb",
      "version": "0.3.2",
      "provenance": [],
      "include_colab_link": true
    },
    "kernelspec": {
      "display_name": "Python 2",
      "language": "python",
      "name": "python2"
    }
  },
  "cells": [
    {
      "cell_type": "markdown",
      "metadata": {
        "id": "view-in-github",
        "colab_type": "text"
      },
      "source": [
        "<a href=\"https://colab.research.google.com/github/FFOLA/My-Titanic/blob/master/sentiment_analysis.ipynb\" target=\"_parent\"><img src=\"https://colab.research.google.com/assets/colab-badge.svg\" alt=\"Open In Colab\"/></a>"
      ]
    },
    {
      "metadata": {
        "id": "n4YfI--p01fq",
        "colab_type": "text"
      },
      "cell_type": "markdown",
      "source": [
        "# Sentiment Analysis Using TensorFlow, for Beginners"
      ]
    },
    {
      "metadata": {
        "id": "tBSq6XI301fr",
        "colab_type": "text"
      },
      "cell_type": "markdown",
      "source": [
        "## Introduction "
      ]
    },
    {
      "metadata": {
        "id": "Agfyq9F_01fs",
        "colab_type": "text"
      },
      "cell_type": "markdown",
      "source": [
        "Sentiment Analysis is the process of categorizing opinions expressed in text. Opinions can be positive, negative or neutral."
      ]
    },
    {
      "metadata": {
        "id": "JA7_k1lZ01ft",
        "colab_type": "text"
      },
      "cell_type": "markdown",
      "source": [
        "## Examples\n",
        "\n",
        "- Lagos is a very dirty city - Negative sentiment\n",
        "- The youths are our future - Positive sentiment\n"
      ]
    },
    {
      "metadata": {
        "id": "CgO6uuj401ft",
        "colab_type": "text"
      },
      "cell_type": "markdown",
      "source": [
        "## Difficult Examples\n",
        "- I do not dislike your API.\n",
        "- My governor is better than your governer.\n",
        "- I love my mobile but would not recommend it to any of my colleagues"
      ]
    },
    {
      "metadata": {
        "id": "wJb57ghG01fu",
        "colab_type": "text"
      },
      "cell_type": "markdown",
      "source": [
        "## Applications of Sentiment Analysis\n",
        "- business; e.g customer feedback such as restaurant reviews or product complaints\n",
        "- politics; how do people feel about your candidate?\n",
        "- relationships; is your boyfriend your boyfriend? 🤷🏿‍♂️"
      ]
    },
    {
      "metadata": {
        "id": "qYkV4b1d01fv",
        "colab_type": "text"
      },
      "cell_type": "markdown",
      "source": [
        "## Goal: \n",
        "Given a text, use ML to predict its sentiment. <br/>\n",
        "We'll keep things simple and deal with only positive and negative sentiments.\n",
        "\n",
        "Most of the material in this tutorial is taken from the documentation here https://www.tensorflow.org/hub/tutorials/text_classification_with_tf_hub"
      ]
    },
    {
      "metadata": {
        "id": "1mfVpKKN01fv",
        "colab_type": "text"
      },
      "cell_type": "markdown",
      "source": [
        "## Machine Learning Lifecyle"
      ]
    },
    {
      "metadata": {
        "id": "JQ2rgY2r01fx",
        "colab_type": "text"
      },
      "cell_type": "markdown",
      "source": [
        "<img src=\"https://docs.aws.amazon.com/sagemaker/latest/dg/images/ml-concepts-10.png\"> <br/>\n",
        "Source: https://docs.aws.amazon.com/sagemaker/latest/dg/images/ml-concepts-10.png"
      ]
    },
    {
      "metadata": {
        "id": "5yE8Yvo-01fx",
        "colab_type": "text"
      },
      "cell_type": "markdown",
      "source": [
        "### Fetching the data"
      ]
    },
    {
      "metadata": {
        "id": "qn-4iL6W01fz",
        "colab_type": "text"
      },
      "cell_type": "markdown",
      "source": [
        "We'll use data from here https://www.kaggle.com/c/word2vec-nlp-tutorial/data.<br/>\n",
        "\n",
        "The labeled data set consists of 50,000 IMDB movie reviews, specially selected for sentiment analysis. "
      ]
    },
    {
      "metadata": {
        "id": "a3z1hFtH01fz",
        "colab_type": "code",
        "colab": {}
      },
      "cell_type": "code",
      "source": [
        "import pandas as pd\n",
        "import tensorflow as tf\n",
        "import tensorflow_hub as hub\n",
        "import numpy as np\n",
        "from sklearn.model_selection import train_test_split"
      ],
      "execution_count": 0,
      "outputs": []
    },
    {
      "metadata": {
        "id": "rY4A82kj01f2",
        "colab_type": "code",
        "colab": {}
      },
      "cell_type": "code",
      "source": [
        "# Reduce logging output.\n",
        "tf.logging.set_verbosity(tf.logging.ERROR)"
      ],
      "execution_count": 0,
      "outputs": []
    },
    {
      "metadata": {
        "id": "EDyPxgI701f4",
        "colab_type": "code",
        "colab": {}
      },
      "cell_type": "code",
      "source": [
        "data = pd.read_csv('data/labeledTrainData.tsv', delimiter='\\t')"
      ],
      "execution_count": 0,
      "outputs": []
    },
    {
      "metadata": {
        "id": "EHBzsKua01f7",
        "colab_type": "code",
        "colab": {},
        "outputId": "0424d4ce-5a08-44d1-add5-1d66ad18ba09"
      },
      "cell_type": "code",
      "source": [
        "data.head()"
      ],
      "execution_count": 0,
      "outputs": [
        {
          "output_type": "execute_result",
          "data": {
            "text/html": [
              "<div>\n",
              "<style scoped>\n",
              "    .dataframe tbody tr th:only-of-type {\n",
              "        vertical-align: middle;\n",
              "    }\n",
              "\n",
              "    .dataframe tbody tr th {\n",
              "        vertical-align: top;\n",
              "    }\n",
              "\n",
              "    .dataframe thead th {\n",
              "        text-align: right;\n",
              "    }\n",
              "</style>\n",
              "<table border=\"1\" class=\"dataframe\">\n",
              "  <thead>\n",
              "    <tr style=\"text-align: right;\">\n",
              "      <th></th>\n",
              "      <th>id</th>\n",
              "      <th>sentiment</th>\n",
              "      <th>review</th>\n",
              "    </tr>\n",
              "  </thead>\n",
              "  <tbody>\n",
              "    <tr>\n",
              "      <th>0</th>\n",
              "      <td>5814_8</td>\n",
              "      <td>1</td>\n",
              "      <td>With all this stuff going down at the moment w...</td>\n",
              "    </tr>\n",
              "    <tr>\n",
              "      <th>1</th>\n",
              "      <td>2381_9</td>\n",
              "      <td>1</td>\n",
              "      <td>\\The Classic War of the Worlds\\\" by Timothy Hi...</td>\n",
              "    </tr>\n",
              "    <tr>\n",
              "      <th>2</th>\n",
              "      <td>7759_3</td>\n",
              "      <td>0</td>\n",
              "      <td>The film starts with a manager (Nicholas Bell)...</td>\n",
              "    </tr>\n",
              "    <tr>\n",
              "      <th>3</th>\n",
              "      <td>3630_4</td>\n",
              "      <td>0</td>\n",
              "      <td>It must be assumed that those who praised this...</td>\n",
              "    </tr>\n",
              "    <tr>\n",
              "      <th>4</th>\n",
              "      <td>9495_8</td>\n",
              "      <td>1</td>\n",
              "      <td>Superbly trashy and wondrously unpretentious 8...</td>\n",
              "    </tr>\n",
              "  </tbody>\n",
              "</table>\n",
              "</div>"
            ],
            "text/plain": [
              "       id  sentiment                                             review\n",
              "0  5814_8          1  With all this stuff going down at the moment w...\n",
              "1  2381_9          1  \\The Classic War of the Worlds\\\" by Timothy Hi...\n",
              "2  7759_3          0  The film starts with a manager (Nicholas Bell)...\n",
              "3  3630_4          0  It must be assumed that those who praised this...\n",
              "4  9495_8          1  Superbly trashy and wondrously unpretentious 8..."
            ]
          },
          "metadata": {
            "tags": []
          },
          "execution_count": 63
        }
      ]
    },
    {
      "metadata": {
        "id": "5cM7JzL101gA",
        "colab_type": "code",
        "colab": {},
        "outputId": "da01f9ec-38a5-4746-dde7-df44c5fd8402"
      },
      "cell_type": "code",
      "source": [
        "data['review'].iloc[1]"
      ],
      "execution_count": 0,
      "outputs": [
        {
          "output_type": "execute_result",
          "data": {
            "text/plain": [
              "'\\\\The Classic War of the Worlds\\\\\" by Timothy Hines is a very entertaining film that obviously goes to great effort and lengths to faithfully recreate H. G. Wells\\' classic book. Mr. Hines succeeds in doing so. I, and those who watched his film with me, appreciated the fact that it was not the standard, predictable Hollywood fare that comes out every year, e.g. the Spielberg version with Tom Cruise that had only the slightest resemblance to the book. Obviously, everyone looks for different things in a movie. Those who envision themselves as amateur \\\\\"critics\\\\\" look only to criticize everything they can. Others rate a movie on more important bases,like being entertained, which is why most people never agree with the \\\\\"critics\\\\\". We enjoyed the effort Mr. Hines put into being faithful to H.G. Wells\\' classic novel, and we found it to be very entertaining. This made it easy to overlook what the \\\\\"critics\\\\\" perceive to be its shortcomings.\"'"
            ]
          },
          "metadata": {
            "tags": []
          },
          "execution_count": 64
        }
      ]
    },
    {
      "metadata": {
        "id": "OPEOSqn601gC",
        "colab_type": "code",
        "colab": {},
        "outputId": "d2e14b1c-8729-499b-c011-9f13f4a90eeb"
      },
      "cell_type": "code",
      "source": [
        "data['review'].iloc[2]"
      ],
      "execution_count": 0,
      "outputs": [
        {
          "output_type": "execute_result",
          "data": {
            "text/plain": [
              "\"The film starts with a manager (Nicholas Bell) giving welcome investors (Robert Carradine) to Primal Park . A secret project mutating a primal animal using fossilized DNA, like \\xc2\\xa8Jurassik Park\\xc2\\xa8, and some scientists resurrect one of nature's most fearsome predators, the Sabretooth tiger or Smilodon . Scientific ambition turns deadly, however, and when the high voltage fence is opened the creature escape and begins savagely stalking its prey - the human visitors , tourists and scientific.Meanwhile some youngsters enter in the restricted area of the security center and are attacked by a pack of large pre-historical animals which are deadlier and bigger . In addition , a security agent (Stacy Haiduk) and her mate (Brian Wimmer) fight hardly against the carnivorous Smilodons. The Sabretooths, themselves , of course, are the real star stars and they are astounding terrifyingly though not convincing. The giant animals savagely are stalking its prey and the group run afoul and fight against one nature's most fearsome predators. Furthermore a third Sabretooth more dangerous and slow stalks its victims.<br /><br />The movie delivers the goods with lots of blood and gore as beheading, hair-raising chills,full of scares when the Sabretooths appear with mediocre special effects.The story provides exciting and stirring entertainment but it results to be quite boring .The giant animals are majority made by computer generator and seem totally lousy .Middling performances though the players reacting appropriately to becoming food.Actors give vigorously physical performances dodging the beasts ,running,bound and leaps or dangling over walls . And it packs a ridiculous final deadly scene. No for small kids by realistic,gory and violent attack scenes . Other films about Sabretooths or Smilodon are the following : \\xc2\\xa8Sabretooth(2002)\\xc2\\xa8by James R Hickox with Vanessa Angel, David Keith and John Rhys Davies and the much better \\xc2\\xa810.000 BC(2006)\\xc2\\xa8 by Roland Emmerich with with Steven Strait, Cliff Curtis and Camilla Belle. This motion picture filled with bloody moments is badly directed by George Miller and with no originality because takes too many elements from previous films. Miller is an Australian director usually working for television (Tidal wave, Journey to the center of the earth, and many others) and occasionally for cinema ( The man from Snowy river, Zeus and Roxanne,Robinson Crusoe ). Rating : Below average, bottom of barrel.\""
            ]
          },
          "metadata": {
            "tags": []
          },
          "execution_count": 65
        }
      ]
    },
    {
      "metadata": {
        "id": "anFclbrF01gF",
        "colab_type": "text"
      },
      "cell_type": "markdown",
      "source": [
        "Check distribution of instances. Important because class imabalance can skew result."
      ]
    },
    {
      "metadata": {
        "id": "KWrvzw5b01gG",
        "colab_type": "code",
        "colab": {},
        "outputId": "92ed5729-49a7-4b27-dede-f78175bed1db"
      },
      "cell_type": "code",
      "source": [
        "len(data[data['sentiment'] == 1]), len(data[data['sentiment'] == 0])"
      ],
      "execution_count": 0,
      "outputs": [
        {
          "output_type": "execute_result",
          "data": {
            "text/plain": [
              "(12500, 12500)"
            ]
          },
          "metadata": {
            "tags": []
          },
          "execution_count": 66
        }
      ]
    },
    {
      "metadata": {
        "id": "IpRezr-h01gJ",
        "colab_type": "text"
      },
      "cell_type": "markdown",
      "source": [
        "Even number of instances in each class, so we don't need to worry. Typically, we'll worry about class imbalance if one class had say only 10% of all instances"
      ]
    },
    {
      "metadata": {
        "id": "TsIz3GOX01gK",
        "colab_type": "text"
      },
      "cell_type": "markdown",
      "source": [
        "We need to hold out some of the data to test the performance of our model against."
      ]
    },
    {
      "metadata": {
        "id": "5ZAPcjlo01gK",
        "colab_type": "code",
        "colab": {}
      },
      "cell_type": "code",
      "source": [
        "train_data, test_data = train_test_split(data, test_size=0.3, stratify=data['sentiment'], random_state=42)"
      ],
      "execution_count": 0,
      "outputs": []
    },
    {
      "metadata": {
        "id": "nW6Kq0Hl01gN",
        "colab_type": "code",
        "colab": {},
        "outputId": "1864d9b0-7fc5-4d3b-e32d-aa352f24daba"
      },
      "cell_type": "code",
      "source": [
        "len(train_data[train_data['sentiment'] == 1]), len(train_data[train_data['sentiment'] == 0])"
      ],
      "execution_count": 0,
      "outputs": [
        {
          "output_type": "execute_result",
          "data": {
            "text/plain": [
              "(8750, 8750)"
            ]
          },
          "metadata": {
            "tags": []
          },
          "execution_count": 68
        }
      ]
    },
    {
      "metadata": {
        "id": "QHuBH6rk01gQ",
        "colab_type": "code",
        "colab": {},
        "outputId": "5b4657a1-104b-4769-ace1-f1723da5cfbc"
      },
      "cell_type": "code",
      "source": [
        "len(test_data[test_data['sentiment'] == 1]), len(test_data[test_data['sentiment'] == 0])"
      ],
      "execution_count": 0,
      "outputs": [
        {
          "output_type": "execute_result",
          "data": {
            "text/plain": [
              "(3750, 3750)"
            ]
          },
          "metadata": {
            "tags": []
          },
          "execution_count": 69
        }
      ]
    },
    {
      "metadata": {
        "id": "jqr-n_XN01gT",
        "colab_type": "text"
      },
      "cell_type": "markdown",
      "source": [
        "### Clean"
      ]
    },
    {
      "metadata": {
        "id": "EesPngky01gU",
        "colab_type": "text"
      },
      "cell_type": "markdown",
      "source": [
        "### Prepare"
      ]
    },
    {
      "metadata": {
        "id": "-cevCXGc01gV",
        "colab_type": "text"
      },
      "cell_type": "markdown",
      "source": [
        "ML algorithms work on only numbers so we need to convert the data to a suitable representation\n",
        "\n",
        "Options:\n",
        "- one-hot encoding\n",
        "- n-grams\n",
        "- word embeddings etc"
      ]
    },
    {
      "metadata": {
        "id": "CB2KLYyI01gW",
        "colab_type": "code",
        "colab": {}
      },
      "cell_type": "code",
      "source": [
        "train_input_fn = tf.estimator.inputs.pandas_input_fn(train_data, train_data['sentiment'], num_epochs=None, shuffle=True)\n",
        "predict_train_input_fn = tf.estimator.inputs.pandas_input_fn(train_data, train_data['sentiment'], shuffle=False)\n",
        "predict_test_input_fn = tf.estimator.inputs.pandas_input_fn(test_data, test_data['sentiment'], shuffle=False)"
      ],
      "execution_count": 0,
      "outputs": []
    },
    {
      "metadata": {
        "id": "rWOQFXQv01gZ",
        "colab_type": "text"
      },
      "cell_type": "markdown",
      "source": [
        "### TFHub to the rescue!\n",
        "\n",
        "A Library for Reusable Machine Learning Modules in TensorFlow.<br/>\n",
        "\n",
        "We will be using `nnlm-en-dim128` module. The module maps from text to 128-dimensional embedding vectors.<br/>\n",
        "\n",
        "Say your text is \"Lagos is dirty\". When passed to this module, it'll return a vector that looks like this [0.4343, 0.004565, 0.00545 ...].<br/>\n",
        "\n",
        "Module also takes care of grunt work such as preprocessing the data; removal of punctuation and splitting on spaces"
      ]
    },
    {
      "metadata": {
        "id": "9hbZTCy501ga",
        "colab_type": "code",
        "colab": {}
      },
      "cell_type": "code",
      "source": [
        "embedded_text_feature_column = hub.text_embedding_column(key='review', module_spec='https://tfhub.dev/google/nnlm-en-dim128/1')"
      ],
      "execution_count": 0,
      "outputs": []
    },
    {
      "metadata": {
        "id": "KxYEjZoE01gc",
        "colab_type": "text"
      },
      "cell_type": "markdown",
      "source": [
        "### Training"
      ]
    },
    {
      "metadata": {
        "id": "LiWC9Qk-01gd",
        "colab_type": "code",
        "colab": {},
        "outputId": "62593f33-e847-41ba-adef-188e970aa889"
      },
      "cell_type": "code",
      "source": [
        "estimator = tf.estimator.DNNClassifier(hidden_units=[150, 50, 20], feature_columns=[embedded_text_feature_column], n_classes=2,\n",
        "    optimizer=tf.train.AdagradOptimizer(learning_rate=0.3))\n",
        "\n",
        "estimator.train(input_fn=train_input_fn, steps=1500)"
      ],
      "execution_count": 0,
      "outputs": [
        {
          "output_type": "execute_result",
          "data": {
            "text/plain": [
              "<tensorflow.python.estimator.canned.dnn.DNNClassifier at 0x1a1dccf150>"
            ]
          },
          "metadata": {
            "tags": []
          },
          "execution_count": 79
        }
      ]
    },
    {
      "metadata": {
        "id": "95eyPRmz01gg",
        "colab_type": "text"
      },
      "cell_type": "markdown",
      "source": [
        "### Evaluation"
      ]
    },
    {
      "metadata": {
        "id": "73vq14PN01gh",
        "colab_type": "code",
        "colab": {},
        "outputId": "a54d004c-d370-4b0c-9a67-fb9b10695cd5"
      },
      "cell_type": "code",
      "source": [
        "train_eval_result = estimator.evaluate(input_fn=predict_train_input_fn)\n",
        "test_eval_result = estimator.evaluate(input_fn=predict_test_input_fn)\n",
        "\n",
        "print('Training set accuracy: {accuracy}'.format(**train_eval_result))\n",
        "print('Test set accuracy: {accuracy}'.format(**test_eval_result))"
      ],
      "execution_count": 0,
      "outputs": [
        {
          "output_type": "stream",
          "text": [
            "Training set accuracy: 0.797828555107\n",
            "Test set accuracy: 0.793333351612\n"
          ],
          "name": "stdout"
        }
      ]
    },
    {
      "metadata": {
        "id": "JAvPKuDt01gn",
        "colab_type": "code",
        "colab": {}
      },
      "cell_type": "code",
      "source": [
        "features = {\n",
        "    'review': np.array(['Lagos is a very dirty city', 'The youths are our future', 'I do not dislike your API'])\n",
        "}\n",
        "custom_test_input_fn = tf.estimator.inputs.numpy_input_fn(features, np.array([0, 1, 1]), shuffle=False)"
      ],
      "execution_count": 0,
      "outputs": []
    },
    {
      "metadata": {
        "id": "0NrpZIUr01go",
        "colab_type": "text"
      },
      "cell_type": "markdown",
      "source": [
        "### Prediction"
      ]
    },
    {
      "metadata": {
        "id": "Td473d4_01gp",
        "colab_type": "code",
        "colab": {},
        "outputId": "eb81d861-fcc4-49d1-c6ed-2c179b5f6802"
      },
      "cell_type": "code",
      "source": [
        "[x['class_ids'][0] for x in estimator.predict(input_fn=custom_test_input_fn)]"
      ],
      "execution_count": 0,
      "outputs": [
        {
          "output_type": "execute_result",
          "data": {
            "text/plain": [
              "[0, 1, 0]"
            ]
          },
          "metadata": {
            "tags": []
          },
          "execution_count": 75
        }
      ]
    },
    {
      "metadata": {
        "id": "BxLzNWRT01gs",
        "colab_type": "code",
        "colab": {},
        "outputId": "708bba43-105f-43b6-974c-3898263a370a"
      },
      "cell_type": "code",
      "source": [
        "custom_test_eval_result = estimator.evaluate(input_fn=custom_test_input_fn)\n",
        "print('Test 2 set accuracy: {accuracy}'.format(**custom_test_eval_result))"
      ],
      "execution_count": 0,
      "outputs": [
        {
          "output_type": "stream",
          "text": [
            "Test 2 set accuracy: 0.666666686535\n"
          ],
          "name": "stdout"
        }
      ]
    },
    {
      "metadata": {
        "id": "ZyhVYs5p01gv",
        "colab_type": "text"
      },
      "cell_type": "markdown",
      "source": [
        "## Next steps\n",
        "- Hyperparameter optimization\n",
        "- SoTA models; Universal Language Model Fine-tuning for Text Classification, https://arxiv.org/pdf/1801.06146.pdf error rate is 4.6%"
      ]
    },
    {
      "metadata": {
        "id": "ROLtPICP01gw",
        "colab_type": "text"
      },
      "cell_type": "markdown",
      "source": [
        "## References\n",
        "- https://www.tensorflow.org/hub/tutorials/text_classification_with_tf_hub\n",
        "- https://www.tensorflow.org/hub/modules/google/nnlm-en-dim128/1\n",
        "- https://www.tensorflow.org/api_docs/python/tf/estimator/DNNClassifier\n",
        "- https://arxiv.org/pdf/1801.06146.pdf\n",
        "- https://medium.com/tensorflow/introducing-tensorflow-hub-a-library-for-reusable-machine-learning-modules-in-tensorflow-cdee41fa18f9\n",
        "- http://nlpprogress.com/sentiment_analysis.html\n",
        "- https://developers.google.com/machine-learning/guides/text-classification/step-2-5"
      ]
    },
    {
      "metadata": {
        "id": "5fRv9Hcy01gw",
        "colab_type": "text"
      },
      "cell_type": "markdown",
      "source": [
        "## Installs\n",
        "- Tensorflow: `conda install -c conda-forge tensorflow`\n",
        "- TF Hub: `conda install -c conda-forge tensorflow-hub`"
      ]
    },
    {
      "metadata": {
        "id": "k_YuNEfd01gx",
        "colab_type": "code",
        "colab": {}
      },
      "cell_type": "code",
      "source": [
        ""
      ],
      "execution_count": 0,
      "outputs": []
    }
  ]
}